{
 "cells": [
  {
   "cell_type": "code",
   "execution_count": 1,
   "metadata": {},
   "outputs": [],
   "source": [
    "import numpy as np\n",
    "import time\n",
    "import math\n",
    "import scipy\n",
    "from matplotlib import pyplot as plt\n",
    "from sompy import SOMFactory\n",
    "from view_1st import View2DN \n",
    "from cartpole_1 import to_cut, readgmc, readgmc1, map_long, findbmu, karma_ca, testgm\n",
    "mapsize = [50,50]\n",
    "nvlimit = 20"
   ]
  },
  {
   "cell_type": "code",
   "execution_count": 4,
   "metadata": {},
   "outputs": [
    {
     "name": "stdout",
     "output_type": "stream",
     "text": [
      "[50, 50]\n",
      "agent array is [[ 819   23   -1]\n",
      " [2480   23   -1]\n",
      " [1495   22   -1]\n",
      " ...\n",
      " [1597   32   -1]\n",
      " [1598   32   -1]\n",
      " [2431   32    1]]\n",
      "(119912, 3)\n"
     ]
    }
   ],
   "source": [
    "use_cut = np.array(to_cut(readgmc,epi = 1000))\n",
    "#to get trainning data, within 1000 epis\n",
    "sm = SOMFactory().build(use_cut, mapsize= mapsize, lattice = 'mirror', normalization = 'var', initialization='random')\n",
    "A = sm.train(n_job=1, verbose=False, train_rough_len=2, train_finetune_len=1, nth=1)\n",
    "print(sm.codebook.mapsize)\n",
    "#Creat a Self-Organizing Map on those data\n",
    "po = map_long(readgmc1,sm.codebook.matrix,findbmu, 20, epi = 25000)\n",
    "print(np.shape(po))\n",
    "#record winning expeiences, including observing and actions\n",
    "K = karma_ca(po, 2500)\n",
    "#decide what to act for every SOM neuron\n"
   ]
  },
  {
   "cell_type": "code",
   "execution_count": 6,
   "metadata": {},
   "outputs": [
    {
     "name": "stdout",
     "output_type": "stream",
     "text": [
      "finished after 121 steps\n",
      "finished after 500 steps\n",
      "finished after 369 steps\n",
      "finished after 500 steps\n",
      "finished after 500 steps\n",
      "finished after 500 steps\n",
      "finished after 462 steps\n",
      "finished after 143 steps\n",
      "finished after 139 steps\n",
      "finished after 500 steps\n",
      "finished after 500 steps\n",
      "finished after 500 steps\n",
      "finished after 386 steps\n",
      "finished after 424 steps\n",
      "finished after 500 steps\n"
     ]
    }
   ],
   "source": [
    "testgm(sm.codebook.matrix,K,epi = 15)"
   ]
  },
  {
   "cell_type": "code",
   "execution_count": null,
   "metadata": {},
   "outputs": [],
   "source": []
  }
 ],
 "metadata": {
  "kernelspec": {
   "display_name": "Python 3",
   "language": "python",
   "name": "python3"
  },
  "language_info": {
   "codemirror_mode": {
    "name": "ipython",
    "version": 3
   },
   "file_extension": ".py",
   "mimetype": "text/x-python",
   "name": "python",
   "nbconvert_exporter": "python",
   "pygments_lexer": "ipython3",
   "version": "3.7.1"
  }
 },
 "nbformat": 4,
 "nbformat_minor": 2
}
